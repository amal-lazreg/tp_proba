{
 "cells": [
  {
   "cell_type": "markdown",
   "metadata": {},
   "source": [
    "# Amal Lazreg\n",
    "# 2LM2 TP2\n",
    "# Simulation du jeux de LIDO simplifié"
   ]
  },
  {
   "cell_type": "markdown",
   "metadata": {},
   "source": [
    "## Principe\n",
    "On considére un jeux de Lido simple:\n",
    "on dispose d'un un seul pion.\n",
    "\n",
    "- Etape 0 :\n",
    "Le pion doit sort de sa prison lorsqu'on obtient un 6.\n",
    "\n",
    "- Etape 1 :\n",
    "Le pion doit atteindre exactement une position cible situé à N pas de distance de sa prison \n",
    "\n",
    "Soit $X_n$ la variable aléatoire qui represente le nombre de coup nécéssaire pour atteindre la positions cible.\n",
    "\n",
    "**Objectif 1** : Simuler le jeux \n",
    "\n",
    "**Objectif 2** : Calculer une estimation de l'éspérance mathématique de $X_n$ en utilisant `python`\n",
    "\n",
    "**Objéctif 3** : Observer la variation de $\\mathbb{E}(X_n)$ en fonction de $n$\n",
    "\n",
    "<img src=\"LIDO.png\">\n"
   ]
  },
  {
   "cell_type": "code",
   "execution_count": 1,
   "metadata": {},
   "outputs": [],
   "source": [
    "import numpy as np"
   ]
  },
  {
   "cell_type": "markdown",
   "metadata": {},
   "source": [
    "### Simulation du lancé de dé"
   ]
  },
  {
   "cell_type": "code",
   "execution_count": 2,
   "metadata": {},
   "outputs": [],
   "source": [
    "def Roll():\n",
    "    return int(np.random.choice(range(1,7),1))"
   ]
  },
  {
   "cell_type": "markdown",
   "metadata": {},
   "source": [
    "on va lancée un dé donc on obtenir un nombre de 1 a 6 c'est pourquoi j'utilise range(1,7) et 7 car range(1,n) en python  donne un nombre aleatoire de 1 a n-1 "
   ]
  },
  {
   "cell_type": "code",
   "execution_count": 3,
   "metadata": {},
   "outputs": [
    {
     "data": {
      "text/plain": [
       "3"
      ]
     },
     "execution_count": 3,
     "metadata": {},
     "output_type": "execute_result"
    }
   ],
   "source": [
    "Roll()"
   ]
  },
  {
   "cell_type": "markdown",
   "metadata": {},
   "source": [
    "### Compléter le code et commenter"
   ]
  },
  {
   "cell_type": "code",
   "execution_count": 4,
   "metadata": {
    "scrolled": false
   },
   "outputs": [
    {
     "name": "stdout",
     "output_type": "stream",
     "text": [
      "1 4\n",
      "2 6\n",
      "sortie de la prison apres 2 coups \n",
      "2 6 1\n",
      "3 4 5\n",
      "4 5 10\n"
     ]
    }
   ],
   "source": [
    "A=0 #prison\n",
    "NA=0\n",
    "S=10\n",
    "c=0\n",
    "temp = Roll()\n",
    "NA+=1\n",
    "print(NA,temp)\n",
    "while temp!=6 :  \n",
    "    temp=Roll()\n",
    "    NA+=1 \n",
    "    print(NA,temp)\n",
    "A=1 \n",
    "print('sortie de la prison apres {} coups '.format(NA))\n",
    "print(NA,temp,A)\n",
    "while  A<S : \n",
    "    temp = Roll() \n",
    "    if temp+A<S : \n",
    "        NA+=1 \n",
    "        A+=temp \n",
    "        print(NA,temp,A)\n",
    "    elif temp+A>S : \n",
    "        NA+=1\n",
    "        print(NA,temp,A)\n",
    "    else :\n",
    "        A=S\n",
    "        NA+=1 \n",
    "        print(NA,temp,A) "
   ]
  },
  {
   "cell_type": "markdown",
   "metadata": {},
   "source": [
    "A : represente la position de pion on va l'initialiser a 0 car au debut le pion est dans le pison .\n",
    "NA : represente le nombre de coups .\n",
    "S : initialiser a 10 car la distance entre le prison et le cible est egale a 10 .\n",
    "tout d'abord on va lancé (temp = Roll () ) le dé d'ou le NA recoit NA+=1\n",
    "le premier boucle while nous donne  le nombre de coups ou le pion va sortir de la prison (c'est a dire on obtenir 6 (temp=6) ).\n",
    "le deuxieme boucle while permet de tester la valeur temp+A avec S et le pion va deplacer  a savoir la condition de temp+A et S (il faut que temp+A < s ou temp+A = s pour que le pion se deplace sinon il reste a ca place )  et en meme temps pour chaque iteration NA+=1 . \n"
   ]
  },
  {
   "cell_type": "code",
   "execution_count": 5,
   "metadata": {},
   "outputs": [],
   "source": [
    "def sim (S) : \n",
    "    A=0 #prison\n",
    "    NA=0\n",
    "    c=0\n",
    "    temp = Roll()\n",
    "    NA+=1\n",
    "    while temp!=6 :  \n",
    "        temp=Roll()\n",
    "        NA+=1 \n",
    "    A=1 \n",
    "    while  A<S : \n",
    "        temp = Roll() \n",
    "        if temp+A<S : \n",
    "            NA+=1 \n",
    "            A+=temp \n",
    "        elif temp+A>S : \n",
    "            NA+=1\n",
    "        else :\n",
    "            A=S\n",
    "            NA+=1 \n",
    "    return NA\n"
   ]
  },
  {
   "cell_type": "markdown",
   "metadata": {},
   "source": [
    "c'est la meme chose mais ici c'est une fonction qui prend comme variable le nombre de pas nécessaire pour atteindre la cible\n"
   ]
  },
  {
   "cell_type": "code",
   "execution_count": 6,
   "metadata": {},
   "outputs": [
    {
     "data": {
      "text/plain": [
       "15"
      ]
     },
     "execution_count": 6,
     "metadata": {},
     "output_type": "execute_result"
    }
   ],
   "source": [
    "sim(20)\n"
   ]
  },
  {
   "cell_type": "code",
   "execution_count": 7,
   "metadata": {},
   "outputs": [
    {
     "name": "stdout",
     "output_type": "stream",
     "text": [
      "estimation de la moyenne de x_30=19.0691\n"
     ]
    }
   ],
   "source": [
    "#simulation 10000 fois n=30\n",
    "L=[sim(30) for i in range(10000)]\n",
    "moy = sum(L)/10000\n",
    "print('estimation de la moyenne de x_30={}'.format(moy))\n"
   ]
  },
  {
   "cell_type": "code",
   "execution_count": 8,
   "metadata": {},
   "outputs": [],
   "source": [
    "x=list(range(10,20))\n",
    "x\n",
    "y=[sum([sim(u) for i in range(10000)])/10000 for u in x]"
   ]
  },
  {
   "cell_type": "code",
   "execution_count": 9,
   "metadata": {},
   "outputs": [
    {
     "data": {
      "text/plain": [
       "[10, 11, 12, 13, 14, 15, 16, 17, 18, 19]"
      ]
     },
     "execution_count": 9,
     "metadata": {},
     "output_type": "execute_result"
    }
   ],
   "source": [
    "x"
   ]
  },
  {
   "cell_type": "code",
   "execution_count": 10,
   "metadata": {},
   "outputs": [],
   "source": [
    "import matplotlib.pyplot as plt"
   ]
  },
  {
   "cell_type": "code",
   "execution_count": 11,
   "metadata": {},
   "outputs": [
    {
     "data": {
      "text/plain": [
       "[13.443,\n",
       " 13.6304,\n",
       " 13.711,\n",
       " 14.252,\n",
       " 14.5892,\n",
       " 14.6716,\n",
       " 14.9813,\n",
       " 15.3125,\n",
       " 15.5334,\n",
       " 15.9393]"
      ]
     },
     "execution_count": 11,
     "metadata": {},
     "output_type": "execute_result"
    }
   ],
   "source": [
    "y"
   ]
  },
  {
   "cell_type": "code",
   "execution_count": 12,
   "metadata": {},
   "outputs": [
    {
     "data": {
      "image/png": "[encoded data removed]",
      "text/plain": [
       "<Figure size 432x288 with 1 Axes>"
      ]
     },
     "metadata": {
      "needs_background": "light"
     },
     "output_type": "display_data"
    }
   ],
   "source": [
    "plt.plot(x,y,'*r')\n",
    "plt.show()\n"
   ]
  },
  {
   "cell_type": "code",
   "execution_count": 13,
   "metadata": {},
   "outputs": [],
   "source": [
    "from scipy import stats\n",
    "import numpy as np\n",
    "slope, intercept, r_value, p_value, std_err = stats.linregress(x,y)"
   ]
  },
  {
   "cell_type": "code",
   "execution_count": 14,
   "metadata": {},
   "outputs": [
    {
     "data": {
      "text/plain": [
       "0.2791848484848485"
      ]
     },
     "execution_count": 14,
     "metadata": {},
     "output_type": "execute_result"
    }
   ],
   "source": [
    "slope"
   ]
  },
  {
   "cell_type": "code",
   "execution_count": 15,
   "metadata": {},
   "outputs": [
    {
     "data": {
      "text/plain": [
       "10.558189696969695"
      ]
     },
     "execution_count": 15,
     "metadata": {},
     "output_type": "execute_result"
    }
   ],
   "source": [
    "intercept"
   ]
  },
  {
   "cell_type": "code",
   "execution_count": 16,
   "metadata": {},
   "outputs": [],
   "source": [
    "yy=[slope *u +intercept for u in x]"
   ]
  },
  {
   "cell_type": "code",
   "execution_count": 17,
   "metadata": {},
   "outputs": [
    {
     "data": {
      "text/plain": [
       "[<matplotlib.lines.Line2D at 0x2c4911884f0>,\n",
       " <matplotlib.lines.Line2D at 0x2c491188520>]"
      ]
     },
     "execution_count": 17,
     "metadata": {},
     "output_type": "execute_result"
    },
    {
     "data": {
      "image/png": "[encoded data removed]",
      "text/plain": [
       "<Figure size 432x288 with 1 Axes>"
      ]
     },
     "metadata": {
      "needs_background": "light"
     },
     "output_type": "display_data"
    }
   ],
   "source": [
    "plt.plot(x,y,'*r',x,yy,'-b')"
   ]
  },
  {
   "cell_type": "markdown",
   "metadata": {},
   "source": [
    "E(x_n)~ = 0.28*n+10.55\n"
   ]
  },
  {
   "cell_type": "markdown",
   "metadata": {},
   "source": [
    "c'est une relation avec une regression linéaire "
   ]
  }
 ],
 "metadata": {
  "kernelspec": {
   "display_name": "Python 3",
   "language": "python",
   "name": "python3"
  },
  "language_info": {
   "codemirror_mode": {
    "name": "ipython",
    "version": 3
   },
   "file_extension": ".py",
   "mimetype": "text/x-python",
   "name": "python",
   "nbconvert_exporter": "python",
   "pygments_lexer": "ipython3",
   "version": "3.8.8"
  }
 },
 "nbformat": 4,
 "nbformat_minor": 4
}
